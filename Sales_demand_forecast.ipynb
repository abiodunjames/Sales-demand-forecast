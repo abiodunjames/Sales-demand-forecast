{
 "cells": [
  {
   "cell_type": "markdown",
   "metadata": {
    "colab_type": "text",
    "id": "lE73Zw8tnFKT"
   },
   "source": [
    "## Sales Demand Forecasting\n",
    "\n",
    "\n",
    "[Wikipedia](https://en.wikipedia.org/wiki/Forecasting) defines Forecasting as the process of making predictions of the future based on past and present data and most commonly by analysis of trends. History is fileed with humans making predictions by looking at trends and drawing conclusions from patterns. \n",
    "\n",
    "For businesses, the ability to forecast the future and make an informed business decision is critical to their survival.  \n",
    "Many organizations' traditional methods of generating forecasts from historical data often struggle to generate an accurate prediction from large data and data with irregular trends. \n",
    "\n",
    "For eCommerce stores, the ability to predict demand accurately is a critical need.  They need to know how many inventory store units to have at hand to be at full stock for each product at a given time.  A low inventory level increases the risk of having a stock out, and a tool high inventory level increases the cost related to handling inventory.\n",
    "\n",
    "\n",
    "Recent research shows that [43% of online businesses](https://www.veeqo.com/inventory-management) admitted that they have inventory problems. Retailers have constant pressure to meet market demand. This pressure is exacerbated by the fact that consumers have many options. A customer with unmet demands will not likely return to the same retailer. \n",
    "\n",
    "\n",
    "\n",
    "Being able to predict an accurate demand is not limited to small businesses alone. In 2013, Walmart experienced[ out-of-stock across all stores](https://www.rsrresearch.com/research/the-walmart-out-of-stock-problem-lessons-learned). \n",
    "\n",
    "\n",
    "\n",
    "The big question stands: can recent advances in machine learning help retailers forecast demand? ML tools' democratization is empowering individuals with little to no ML skills to solve complex problems that previously required strong expertise in ML. AWS Forecast is one of these tools.\n",
    "\n",
    "\n",
    "In this notebook, you'll learn how to predict sales demand using AWS Forecast. It's important to know that the workflow demonstrated in this notebook from data preprocessing to training a predictor can be fully automated.\n",
    "\n",
    "\n",
    "### Amazon Forecast \n",
    "[Amazon forecast](https://aws.amazon.com/forecast/) is a managed service that uses ML to deliver highly accurate forecasts. It looks at historical data (time series data) to build forecasts. Amazon Forecast abstracts the complexity of training, building, or deploying a model. It automatically examines your data, engineers features, and generates a forecasting model. \n",
    "\n",
    "Amazon Forecast works in four (4) simple steps:\n",
    "- Import training data\n",
    "- Train a forecast predictor\n",
    "- Create a forecast\n",
    "- Retrieve a forecast\n",
    "\n",
    "Amazon Forecast supports multiple domains. In this example, we'll use the RETAIL domain to predict product demand. \n",
    " "
   ]
  },
  {
   "cell_type": "markdown",
   "metadata": {},
   "source": [
    "### Dataset\n",
    "\n",
    "For this tutorial, we will use the public [Olist public e-commerce dataset](https://www.kaggle.com/olistbr/brazilian-ecommerce) to train a predictor.  The dataset can be found in this [repository](https://github.com/abiodunjames/Predicting-ecommerce-sales-forecast).  "
   ]
  },
  {
   "cell_type": "code",
   "execution_count": 1,
   "metadata": {
    "colab": {
     "base_uri": "https://localhost:8080/",
     "height": 119
    },
    "colab_type": "code",
    "id": "OJrZNaxgn7FX",
    "outputId": "811fae23-f838-46b8-ebd0-d32d9a19eee2"
   },
   "outputs": [
    {
     "name": "stdout",
     "output_type": "stream",
     "text": [
      "Cloning into 'Predicting-ecommerce-sales-forecast'...\n",
      "remote: Enumerating objects: 15, done.\u001b[K\n",
      "remote: Counting objects: 100% (15/15), done.\u001b[K\n",
      "remote: Compressing objects: 100% (12/12), done.\u001b[K\n",
      "remote: Total 15 (delta 1), reused 12 (delta 1), pack-reused 0\u001b[K\n",
      "Unpacking objects: 100% (15/15), done.\n"
     ]
    }
   ],
   "source": [
    "# clone the dataset repository\n",
    "! git clone https://github.com/abiodunjames/Predicting-ecommerce-sales-forecast"
   ]
  },
  {
   "cell_type": "markdown",
   "metadata": {
    "colab_type": "text",
    "id": "jFKHrDvSoyDw"
   },
   "source": [
    "\n",
    "\n",
    "# Data Pre-processing\n",
    "\n",
    "One important thing to note is you can't just feed any datasets into AWS Forecast. A dataset domain must be specified, and the dataset must conform to the structure of the domain. You can think of a dataset domain as a predefined dataset schema or format for a use case.  For predicting sales demand, the [RETAIL Domain](https://docs.aws.amazon.com/forecast/latest/dg/retail-domain.html) is a perfect choice. \n",
    "\n",
    "The Retail Domain must define three required fields, the  `item_id` (string), `timestamp` (timestamp) and the `demand` (float). This means we have to do some data pre-processing. The following code already.\n",
    " \n",
    "`item_id`: (string) – A unique identifier for the item or product that you want to predict the demand for.\n",
    "\n",
    "`timestamp`: (timestamp)\n",
    "\n",
    "`demand`: (float) – The number of sales for that item at the timestamp. This is also the target field for which Amazon Forecast generates a forecast.\n",
    "\n",
    "To work with the RETAIL domain, the dataset has to be pre-processed."
   ]
  },
  {
   "cell_type": "code",
   "execution_count": 2,
   "metadata": {
    "colab": {},
    "colab_type": "code",
    "id": "sratszvJpAeG"
   },
   "outputs": [],
   "source": [
    "# Import necessary libraries\n",
    "import pandas as pd\n",
    "import matplotlib.pyplot as plt\n",
    "import seaborn as sns\n",
    "import datetime"
   ]
  },
  {
   "cell_type": "code",
   "execution_count": 3,
   "metadata": {
    "colab": {},
    "colab_type": "code",
    "id": "Rscdr9z1bEfG"
   },
   "outputs": [],
   "source": [
    "orders_file = './Predicting-ecommerce-sales-forecast/data/olist_orders_dataset.csv'\n",
    "items_file = './Predicting-ecommerce-sales-forecast/data/olist_order_items_dataset.csv'\n",
    "products_file = './Predicting-ecommerce-sales-forecast/data/olist_products_dataset.csv'\n",
    "translation_file = './Predicting-ecommerce-sales-forecast/data/product_category_name_translation.csv'\n",
    "\n",
    "orders_df = pd.read_csv(orders_file)\n",
    "order_items_df = pd.read_csv(items_file)\n",
    "products_df = pd.read_csv(products_file)\n",
    "translation_df = pd.read_csv(translation_file)\n",
    "# Merge translation file with product so we can get the name of products in English\n",
    "products_df = products_df.merge(translation_df, on='product_category_name')\n",
    "#Merge product with order items so that can we put name to each order item.\n",
    "order_items_df = products_df.merge(order_items_df, on=\"product_id\", how='right')\n"
   ]
  },
  {
   "cell_type": "code",
   "execution_count": 4,
   "metadata": {
    "colab": {
     "base_uri": "https://localhost:8080/",
     "height": 224
    },
    "colab_type": "code",
    "id": "H8AEKfNzpGrX",
    "outputId": "46b180ea-618c-4efd-a456-3c60b71d9197"
   },
   "outputs": [
    {
     "data": {
      "text/html": [
       "<div>\n",
       "<style scoped>\n",
       "    .dataframe tbody tr th:only-of-type {\n",
       "        vertical-align: middle;\n",
       "    }\n",
       "\n",
       "    .dataframe tbody tr th {\n",
       "        vertical-align: top;\n",
       "    }\n",
       "\n",
       "    .dataframe thead th {\n",
       "        text-align: right;\n",
       "    }\n",
       "</style>\n",
       "<table border=\"1\" class=\"dataframe\">\n",
       "  <thead>\n",
       "    <tr style=\"text-align: right;\">\n",
       "      <th></th>\n",
       "      <th>order_id</th>\n",
       "      <th>customer_id</th>\n",
       "      <th>order_status</th>\n",
       "      <th>order_purchase_timestamp</th>\n",
       "      <th>order_approved_at</th>\n",
       "      <th>order_delivered_carrier_date</th>\n",
       "      <th>order_delivered_customer_date</th>\n",
       "      <th>order_estimated_delivery_date</th>\n",
       "      <th>product_id</th>\n",
       "      <th>product_category_name</th>\n",
       "      <th>...</th>\n",
       "      <th>product_weight_g</th>\n",
       "      <th>product_length_cm</th>\n",
       "      <th>product_height_cm</th>\n",
       "      <th>product_width_cm</th>\n",
       "      <th>product_category_name_english</th>\n",
       "      <th>order_item_id</th>\n",
       "      <th>seller_id</th>\n",
       "      <th>shipping_limit_date</th>\n",
       "      <th>price</th>\n",
       "      <th>freight_value</th>\n",
       "    </tr>\n",
       "  </thead>\n",
       "  <tbody>\n",
       "    <tr>\n",
       "      <th>0</th>\n",
       "      <td>e481f51cbdc54678b7cc49136f2d6af7</td>\n",
       "      <td>9ef432eb6251297304e76186b10a928d</td>\n",
       "      <td>delivered</td>\n",
       "      <td>2017-10-02 10:56:33</td>\n",
       "      <td>2017-10-02 11:07:15</td>\n",
       "      <td>2017-10-04 19:55:00</td>\n",
       "      <td>2017-10-10 21:25:13</td>\n",
       "      <td>2017-10-18 00:00:00</td>\n",
       "      <td>87285b34884572647811a353c7ac498a</td>\n",
       "      <td>utilidades_domesticas</td>\n",
       "      <td>...</td>\n",
       "      <td>500.0</td>\n",
       "      <td>19.0</td>\n",
       "      <td>8.0</td>\n",
       "      <td>13.0</td>\n",
       "      <td>housewares</td>\n",
       "      <td>1</td>\n",
       "      <td>3504c0cb71d7fa48d967e0e4c94d59d9</td>\n",
       "      <td>2017-10-06 11:07:15</td>\n",
       "      <td>29.99</td>\n",
       "      <td>8.72</td>\n",
       "    </tr>\n",
       "    <tr>\n",
       "      <th>1</th>\n",
       "      <td>53cdb2fc8bc7dce0b6741e2150273451</td>\n",
       "      <td>b0830fb4747a6c6d20dea0b8c802d7ef</td>\n",
       "      <td>delivered</td>\n",
       "      <td>2018-07-24 20:41:37</td>\n",
       "      <td>2018-07-26 03:24:27</td>\n",
       "      <td>2018-07-26 14:31:00</td>\n",
       "      <td>2018-08-07 15:27:45</td>\n",
       "      <td>2018-08-13 00:00:00</td>\n",
       "      <td>595fac2a385ac33a80bd5114aec74eb8</td>\n",
       "      <td>perfumaria</td>\n",
       "      <td>...</td>\n",
       "      <td>400.0</td>\n",
       "      <td>19.0</td>\n",
       "      <td>13.0</td>\n",
       "      <td>19.0</td>\n",
       "      <td>perfumery</td>\n",
       "      <td>1</td>\n",
       "      <td>289cdb325fb7e7f891c38608bf9e0962</td>\n",
       "      <td>2018-07-30 03:24:27</td>\n",
       "      <td>118.70</td>\n",
       "      <td>22.76</td>\n",
       "    </tr>\n",
       "    <tr>\n",
       "      <th>2</th>\n",
       "      <td>47770eb9100c2d0c44946d9cf07ec65d</td>\n",
       "      <td>41ce2a54c0b03bf3443c3d931a367089</td>\n",
       "      <td>delivered</td>\n",
       "      <td>2018-08-08 08:38:49</td>\n",
       "      <td>2018-08-08 08:55:23</td>\n",
       "      <td>2018-08-08 13:50:00</td>\n",
       "      <td>2018-08-17 18:06:29</td>\n",
       "      <td>2018-09-04 00:00:00</td>\n",
       "      <td>aa4383b373c6aca5d8797843e5594415</td>\n",
       "      <td>automotivo</td>\n",
       "      <td>...</td>\n",
       "      <td>420.0</td>\n",
       "      <td>24.0</td>\n",
       "      <td>19.0</td>\n",
       "      <td>21.0</td>\n",
       "      <td>auto</td>\n",
       "      <td>1</td>\n",
       "      <td>4869f7a5dfa277a7dca6462dcf3b52b2</td>\n",
       "      <td>2018-08-13 08:55:23</td>\n",
       "      <td>159.90</td>\n",
       "      <td>19.22</td>\n",
       "    </tr>\n",
       "    <tr>\n",
       "      <th>3</th>\n",
       "      <td>949d5b44dbf5de918fe9c16f97b45f8a</td>\n",
       "      <td>f88197465ea7920adcdbec7375364d82</td>\n",
       "      <td>delivered</td>\n",
       "      <td>2017-11-18 19:28:06</td>\n",
       "      <td>2017-11-18 19:45:59</td>\n",
       "      <td>2017-11-22 13:39:59</td>\n",
       "      <td>2017-12-02 00:28:42</td>\n",
       "      <td>2017-12-15 00:00:00</td>\n",
       "      <td>d0b61bfb1de832b15ba9d266ca96e5b0</td>\n",
       "      <td>pet_shop</td>\n",
       "      <td>...</td>\n",
       "      <td>450.0</td>\n",
       "      <td>30.0</td>\n",
       "      <td>10.0</td>\n",
       "      <td>20.0</td>\n",
       "      <td>pet_shop</td>\n",
       "      <td>1</td>\n",
       "      <td>66922902710d126a0e7d26b0e3805106</td>\n",
       "      <td>2017-11-23 19:45:59</td>\n",
       "      <td>45.00</td>\n",
       "      <td>27.20</td>\n",
       "    </tr>\n",
       "    <tr>\n",
       "      <th>4</th>\n",
       "      <td>ad21c59c0840e6cb83a9ceb5573f8159</td>\n",
       "      <td>8ab97904e6daea8866dbdbc4fb7aad2c</td>\n",
       "      <td>delivered</td>\n",
       "      <td>2018-02-13 21:18:39</td>\n",
       "      <td>2018-02-13 22:20:29</td>\n",
       "      <td>2018-02-14 19:46:34</td>\n",
       "      <td>2018-02-16 18:17:02</td>\n",
       "      <td>2018-02-26 00:00:00</td>\n",
       "      <td>65266b2da20d04dbe00c5c2d3bb7859e</td>\n",
       "      <td>papelaria</td>\n",
       "      <td>...</td>\n",
       "      <td>250.0</td>\n",
       "      <td>51.0</td>\n",
       "      <td>15.0</td>\n",
       "      <td>15.0</td>\n",
       "      <td>stationery</td>\n",
       "      <td>1</td>\n",
       "      <td>2c9e548be18521d1c43cde1c582c6de8</td>\n",
       "      <td>2018-02-19 20:31:37</td>\n",
       "      <td>19.90</td>\n",
       "      <td>8.72</td>\n",
       "    </tr>\n",
       "  </tbody>\n",
       "</table>\n",
       "<p>5 rows × 23 columns</p>\n",
       "</div>"
      ],
      "text/plain": [
       "                           order_id                       customer_id  \\\n",
       "0  e481f51cbdc54678b7cc49136f2d6af7  9ef432eb6251297304e76186b10a928d   \n",
       "1  53cdb2fc8bc7dce0b6741e2150273451  b0830fb4747a6c6d20dea0b8c802d7ef   \n",
       "2  47770eb9100c2d0c44946d9cf07ec65d  41ce2a54c0b03bf3443c3d931a367089   \n",
       "3  949d5b44dbf5de918fe9c16f97b45f8a  f88197465ea7920adcdbec7375364d82   \n",
       "4  ad21c59c0840e6cb83a9ceb5573f8159  8ab97904e6daea8866dbdbc4fb7aad2c   \n",
       "\n",
       "  order_status order_purchase_timestamp    order_approved_at  \\\n",
       "0    delivered      2017-10-02 10:56:33  2017-10-02 11:07:15   \n",
       "1    delivered      2018-07-24 20:41:37  2018-07-26 03:24:27   \n",
       "2    delivered      2018-08-08 08:38:49  2018-08-08 08:55:23   \n",
       "3    delivered      2017-11-18 19:28:06  2017-11-18 19:45:59   \n",
       "4    delivered      2018-02-13 21:18:39  2018-02-13 22:20:29   \n",
       "\n",
       "  order_delivered_carrier_date order_delivered_customer_date  \\\n",
       "0          2017-10-04 19:55:00           2017-10-10 21:25:13   \n",
       "1          2018-07-26 14:31:00           2018-08-07 15:27:45   \n",
       "2          2018-08-08 13:50:00           2018-08-17 18:06:29   \n",
       "3          2017-11-22 13:39:59           2017-12-02 00:28:42   \n",
       "4          2018-02-14 19:46:34           2018-02-16 18:17:02   \n",
       "\n",
       "  order_estimated_delivery_date                        product_id  \\\n",
       "0           2017-10-18 00:00:00  87285b34884572647811a353c7ac498a   \n",
       "1           2018-08-13 00:00:00  595fac2a385ac33a80bd5114aec74eb8   \n",
       "2           2018-09-04 00:00:00  aa4383b373c6aca5d8797843e5594415   \n",
       "3           2017-12-15 00:00:00  d0b61bfb1de832b15ba9d266ca96e5b0   \n",
       "4           2018-02-26 00:00:00  65266b2da20d04dbe00c5c2d3bb7859e   \n",
       "\n",
       "   product_category_name  ...  product_weight_g  product_length_cm  \\\n",
       "0  utilidades_domesticas  ...             500.0               19.0   \n",
       "1             perfumaria  ...             400.0               19.0   \n",
       "2             automotivo  ...             420.0               24.0   \n",
       "3               pet_shop  ...             450.0               30.0   \n",
       "4              papelaria  ...             250.0               51.0   \n",
       "\n",
       "   product_height_cm  product_width_cm  product_category_name_english  \\\n",
       "0                8.0              13.0                     housewares   \n",
       "1               13.0              19.0                      perfumery   \n",
       "2               19.0              21.0                           auto   \n",
       "3               10.0              20.0                       pet_shop   \n",
       "4               15.0              15.0                     stationery   \n",
       "\n",
       "   order_item_id                         seller_id  shipping_limit_date  \\\n",
       "0              1  3504c0cb71d7fa48d967e0e4c94d59d9  2017-10-06 11:07:15   \n",
       "1              1  289cdb325fb7e7f891c38608bf9e0962  2018-07-30 03:24:27   \n",
       "2              1  4869f7a5dfa277a7dca6462dcf3b52b2  2018-08-13 08:55:23   \n",
       "3              1  66922902710d126a0e7d26b0e3805106  2017-11-23 19:45:59   \n",
       "4              1  2c9e548be18521d1c43cde1c582c6de8  2018-02-19 20:31:37   \n",
       "\n",
       "    price freight_value  \n",
       "0   29.99          8.72  \n",
       "1  118.70         22.76  \n",
       "2  159.90         19.22  \n",
       "3   45.00         27.20  \n",
       "4   19.90          8.72  \n",
       "\n",
       "[5 rows x 23 columns]"
      ]
     },
     "execution_count": 4,
     "metadata": {},
     "output_type": "execute_result"
    }
   ],
   "source": [
    "assert pd.Series(order_items_df['order_id']).is_unique is False\n",
    "#Merge order items with order dataframe to get the timestamp of the date the order was placed\n",
    "merged_datasets = orders_df.merge(order_items_df, on=\"order_id\", how='right')\n",
    "merged_datasets.to_csv(\"datasets.csv\", index=False)\n",
    "df = pd.read_csv('datasets.csv')\n",
    "df.head()\n"
   ]
  },
  {
   "cell_type": "code",
   "execution_count": 5,
   "metadata": {
    "colab": {
     "base_uri": "https://localhost:8080/",
     "height": 204
    },
    "colab_type": "code",
    "id": "oGQuqPG6U1Pz",
    "outputId": "53ba37d4-e497-4dfc-bbf2-8a3c3a2ef6d5"
   },
   "outputs": [
    {
     "data": {
      "text/html": [
       "<div>\n",
       "<style scoped>\n",
       "    .dataframe tbody tr th:only-of-type {\n",
       "        vertical-align: middle;\n",
       "    }\n",
       "\n",
       "    .dataframe tbody tr th {\n",
       "        vertical-align: top;\n",
       "    }\n",
       "\n",
       "    .dataframe thead th {\n",
       "        text-align: right;\n",
       "    }\n",
       "</style>\n",
       "<table border=\"1\" class=\"dataframe\">\n",
       "  <thead>\n",
       "    <tr style=\"text-align: right;\">\n",
       "      <th></th>\n",
       "      <th>timestamp</th>\n",
       "      <th>product_category_name</th>\n",
       "      <th>demand</th>\n",
       "    </tr>\n",
       "  </thead>\n",
       "  <tbody>\n",
       "    <tr>\n",
       "      <th>0</th>\n",
       "      <td>2016-09-04 21:15:19</td>\n",
       "      <td>moveis_decoracao</td>\n",
       "      <td>2</td>\n",
       "    </tr>\n",
       "    <tr>\n",
       "      <th>1</th>\n",
       "      <td>2016-09-05 00:15:34</td>\n",
       "      <td>telefonia</td>\n",
       "      <td>1</td>\n",
       "    </tr>\n",
       "    <tr>\n",
       "      <th>2</th>\n",
       "      <td>2016-09-15 12:16:38</td>\n",
       "      <td>beleza_saude</td>\n",
       "      <td>3</td>\n",
       "    </tr>\n",
       "    <tr>\n",
       "      <th>3</th>\n",
       "      <td>2016-10-02 22:07:52</td>\n",
       "      <td>bebes</td>\n",
       "      <td>1</td>\n",
       "    </tr>\n",
       "    <tr>\n",
       "      <th>4</th>\n",
       "      <td>2016-10-03 09:44:50</td>\n",
       "      <td>relogios_presentes</td>\n",
       "      <td>1</td>\n",
       "    </tr>\n",
       "  </tbody>\n",
       "</table>\n",
       "</div>"
      ],
      "text/plain": [
       "            timestamp product_category_name  demand\n",
       "0 2016-09-04 21:15:19      moveis_decoracao       2\n",
       "1 2016-09-05 00:15:34             telefonia       1\n",
       "2 2016-09-15 12:16:38          beleza_saude       3\n",
       "3 2016-10-02 22:07:52                 bebes       1\n",
       "4 2016-10-03 09:44:50    relogios_presentes       1"
      ]
     },
     "execution_count": 5,
     "metadata": {},
     "output_type": "execute_result"
    }
   ],
   "source": [
    "demand_per_time = df.groupby(['order_purchase_timestamp', 'product_category_name'])['order_purchase_timestamp'].count().reset_index(name=\"demand\")\n",
    "demand_per_time.rename(columns={'order_purchase_timestamp': 'timestamp', 'product_category_name_english': 'item_id'}, inplace=True)\n",
    "# Convert string timestamp to pandas datetime\n",
    "demand_per_time['timestamp'] = demand_per_time['timestamp'].astype('datetime64[ns]') \n",
    "demand_per_time.head()"
   ]
  },
  {
   "cell_type": "code",
   "execution_count": 6,
   "metadata": {
    "colab": {
     "base_uri": "https://localhost:8080/",
     "height": 351
    },
    "colab_type": "code",
    "id": "rtN7hYn6KIvh",
    "outputId": "784648a8-0483-4f8b-d3cc-29ca4595aa9f"
   },
   "outputs": [
    {
     "data": {
      "text/plain": [
       "<matplotlib.axes._subplots.AxesSubplot at 0x7fd4cace6438>"
      ]
     },
     "execution_count": 6,
     "metadata": {},
     "output_type": "execute_result"
    },
    {
     "data": {
      "image/png": "[encoded data removed]",
      "text/plain": [
       "<Figure size 1440x360 with 1 Axes>"
      ]
     },
     "metadata": {
      "needs_background": "light"
     },
     "output_type": "display_data"
    }
   ],
   "source": [
    "demand_per_time_2016 = demand_per_time[demand_per_time['timestamp'].dt.strftime('%Y')=='2016']\n",
    "demand_per_time_2016.to_csv('demand_per_time_2016.csv', index=False)\n",
    "plt.figure(figsize=(20,5))\n",
    "sns.lineplot(x=\"timestamp\", y=\"demand\", data=demand_per_time_2016)"
   ]
  },
  {
   "cell_type": "code",
   "execution_count": 7,
   "metadata": {
    "colab": {
     "base_uri": "https://localhost:8080/",
     "height": 334
    },
    "colab_type": "code",
    "id": "LPMrJX-slq0y",
    "outputId": "eb4ad851-5743-40fd-c342-61f9b68f36c1"
   },
   "outputs": [
    {
     "data": {
      "image/png": "[encoded data removed]",
      "text/plain": [
       "<Figure size 1440x360 with 1 Axes>"
      ]
     },
     "metadata": {
      "needs_background": "light"
     },
     "output_type": "display_data"
    }
   ],
   "source": [
    "demand_per_time_2017 = demand_per_time[demand_per_time['timestamp'].dt.strftime('%Y')=='2017']\n",
    "plt.figure(figsize=(20,5))\n",
    "sns.lineplot(x=\"timestamp\", y=\"demand\", data=demand_per_time_2017)\n",
    "\n",
    "demand_per_time_2017.to_csv('demand_per_time_2017.csv', index=False)\n"
   ]
  },
  {
   "cell_type": "code",
   "execution_count": 8,
   "metadata": {
    "colab": {
     "base_uri": "https://localhost:8080/",
     "height": 351
    },
    "colab_type": "code",
    "id": "4Ga-gFqolzys",
    "outputId": "1c14535d-394e-4b67-ce80-de750e0aa5fd"
   },
   "outputs": [
    {
     "data": {
      "text/plain": [
       "<matplotlib.axes._subplots.AxesSubplot at 0x7fd4c994f198>"
      ]
     },
     "execution_count": 8,
     "metadata": {},
     "output_type": "execute_result"
    },
    {
     "data": {
      "image/png": "[encoded data removed]",
      "text/plain": [
       "<Figure size 1440x360 with 1 Axes>"
      ]
     },
     "metadata": {
      "needs_background": "light"
     },
     "output_type": "display_data"
    }
   ],
   "source": [
    "demand_per_time_2018 = demand_per_time[demand_per_time['timestamp'].dt.strftime('%Y')=='2018']\n",
    "demand_per_time_2018.to_csv('demand_per_time_2018.csv', index=False)\n",
    "\n",
    "plt.figure(figsize=(20,5))\n",
    "sns.lineplot(x=\"timestamp\", y=\"demand\", data=demand_per_time_2018)\n"
   ]
  },
  {
   "cell_type": "code",
   "execution_count": 9,
   "metadata": {},
   "outputs": [
    {
     "data": {
      "text/html": [
       "<div>\n",
       "<style scoped>\n",
       "    .dataframe tbody tr th:only-of-type {\n",
       "        vertical-align: middle;\n",
       "    }\n",
       "\n",
       "    .dataframe tbody tr th {\n",
       "        vertical-align: top;\n",
       "    }\n",
       "\n",
       "    .dataframe thead th {\n",
       "        text-align: right;\n",
       "    }\n",
       "</style>\n",
       "<table border=\"1\" class=\"dataframe\">\n",
       "  <thead>\n",
       "    <tr style=\"text-align: right;\">\n",
       "      <th></th>\n",
       "      <th>timestamp</th>\n",
       "      <th>product_category_name</th>\n",
       "      <th>demand</th>\n",
       "    </tr>\n",
       "  </thead>\n",
       "  <tbody>\n",
       "    <tr>\n",
       "      <th>313</th>\n",
       "      <td>2017-01-05 11:56:06</td>\n",
       "      <td>fashion_bolsas_e_acessorios</td>\n",
       "      <td>1</td>\n",
       "    </tr>\n",
       "    <tr>\n",
       "      <th>314</th>\n",
       "      <td>2017-01-05 12:01:20</td>\n",
       "      <td>automotivo</td>\n",
       "      <td>1</td>\n",
       "    </tr>\n",
       "    <tr>\n",
       "      <th>315</th>\n",
       "      <td>2017-01-05 12:06:36</td>\n",
       "      <td>pet_shop</td>\n",
       "      <td>1</td>\n",
       "    </tr>\n",
       "    <tr>\n",
       "      <th>316</th>\n",
       "      <td>2017-01-05 12:09:08</td>\n",
       "      <td>pet_shop</td>\n",
       "      <td>1</td>\n",
       "    </tr>\n",
       "    <tr>\n",
       "      <th>317</th>\n",
       "      <td>2017-01-05 12:11:23</td>\n",
       "      <td>pet_shop</td>\n",
       "      <td>1</td>\n",
       "    </tr>\n",
       "  </tbody>\n",
       "</table>\n",
       "</div>"
      ],
      "text/plain": [
       "              timestamp        product_category_name  demand\n",
       "313 2017-01-05 11:56:06  fashion_bolsas_e_acessorios       1\n",
       "314 2017-01-05 12:01:20                   automotivo       1\n",
       "315 2017-01-05 12:06:36                     pet_shop       1\n",
       "316 2017-01-05 12:09:08                     pet_shop       1\n",
       "317 2017-01-05 12:11:23                     pet_shop       1"
      ]
     },
     "execution_count": 9,
     "metadata": {},
     "output_type": "execute_result"
    }
   ],
   "source": [
    "demand_per_time_2018_and_2017 = demand_per_time[demand_per_time['timestamp'].dt.strftime('%Y')!='2016']\n",
    "demand_per_time_2018_and_2017.to_csv('demand_per_time_2018_and_2017.csv', index=False)\n",
    "demand_per_time_2018_and_2017.head()"
   ]
  },
  {
   "cell_type": "markdown",
   "metadata": {},
   "source": [
    "# Upload  Processed Dataset To An S3 Bucket\n"
   ]
  },
  {
   "cell_type": "code",
   "execution_count": 10,
   "metadata": {},
   "outputs": [],
   "source": [
    "import boto3\n",
    "import sagemaker\n",
    "s3 = boto3.client(\"s3\", region_name='us-east-1')\n",
    "bucket_name='sales-forecast-test-bucket'\n",
    "bucket = s3.create_bucket(Bucket=bucket_name)"
   ]
  },
  {
   "cell_type": "code",
   "execution_count": 11,
   "metadata": {},
   "outputs": [
    {
     "data": {
      "text/plain": [
       "{'ResponseMetadata': {'RequestId': '2Q5T3H4WCKCP7V2R',\n",
       "  'HostId': 'aYmse8LUBXM91zvj/X24GeO+QK4VDUFbtlFaF4F9hLDGqVIhoeQVniYxOm5AmWv9sjZrgkszkF0=',\n",
       "  'HTTPStatusCode': 200,\n",
       "  'HTTPHeaders': {'x-amz-id-2': 'aYmse8LUBXM91zvj/X24GeO+QK4VDUFbtlFaF4F9hLDGqVIhoeQVniYxOm5AmWv9sjZrgkszkF0=',\n",
       "   'x-amz-request-id': '2Q5T3H4WCKCP7V2R',\n",
       "   'date': 'Wed, 07 Oct 2020 05:56:03 GMT',\n",
       "   'location': '/sales-forecast-test-bucket',\n",
       "   'content-length': '0',\n",
       "   'server': 'AmazonS3'},\n",
       "  'RetryAttempts': 0},\n",
       " 'Location': '/sales-forecast-test-bucket'}"
      ]
     },
     "execution_count": 11,
     "metadata": {},
     "output_type": "execute_result"
    }
   ],
   "source": [
    "bucket"
   ]
  },
  {
   "cell_type": "code",
   "execution_count": 12,
   "metadata": {},
   "outputs": [],
   "source": [
    "s3.upload_file(Filename=\"demand_per_time_2018_and_2017.csv\", Bucket=bucket_name, Key=\"demand_per_time_2018_and_2017.csv\")"
   ]
  },
  {
   "cell_type": "markdown",
   "metadata": {},
   "source": [
    "We can check through the console to confirm that the bucket was created and the file was uploaded successfully.\n",
    "> If you're following this guide. You should use a different bucket name\n",
    "\n",
    "\n",
    "![Uploaded Image](https://res.cloudinary.com/samueljames/image/upload/v1599382424/Screenshot_2020-09-06_at_10.52.33.png)"
   ]
  },
  {
   "cell_type": "markdown",
   "metadata": {},
   "source": [
    "### Prerequisites\n",
    " To continue with this tutorial, you should ensure that the following conditions are met.\n",
    "\n",
    "- You have an S3 bucket that contains the preprocessed dataset\n",
    "- Your notebook instance has an IAM role with AmazonForecastFullAccess policy, AmazonSageMakerFullAccess policy,  and S3 Policy with a read and write access to the s3 bucket that contains the preprocessed dataset. "
   ]
  },
  {
   "cell_type": "code",
   "execution_count": 14,
   "metadata": {},
   "outputs": [],
   "source": [
    "# Define some variables that will be used in later steps\n",
    "dataset_group_name = \"sales_demand\"\n",
    "dataset_name = \"sales_dedataset\"\n",
    "dataset_import_job_name = 'sales_dataset_import_job'\n",
    "predictor_name = 'sales_predictor'\n",
    "forecast_name = 'sales_forcast'\n",
    "forecast_domain = \"RETAIL\"\n"
   ]
  },
  {
   "cell_type": "code",
   "execution_count": 15,
   "metadata": {},
   "outputs": [
    {
     "data": {
      "text/plain": [
       "'arn:aws:iam::514965996716:role/SageMakerForecastRole'"
      ]
     },
     "execution_count": 15,
     "metadata": {},
     "output_type": "execute_result"
    }
   ],
   "source": [
    "role = sagemaker.get_execution_role()\n",
    "iam = boto3.client('iam')\n",
    "forecast = boto3.client('forecast', region_name='eu-west-1')\n",
    "role"
   ]
  },
  {
   "cell_type": "markdown",
   "metadata": {},
   "source": [
    "## Importing Training Dataset\n",
    "\n",
    "To import the training dataset, we first need to create a forecast dataset. This will containinformation about the dataset so that AWS Forecast understands how to consume the dataset. We can use Forecast `create_dataset` to achieve this as follows:\n",
    "\n"
   ]
  },
  {
   "cell_type": "code",
   "execution_count": 33,
   "metadata": {},
   "outputs": [
    {
     "data": {
      "text/plain": [
       "{'DatasetArn': 'arn:aws:forecast:eu-west-1:514965996716:dataset/sales_dedataset',\n",
       " 'ResponseMetadata': {'RequestId': '2e538330-ff75-4c0d-bb1f-2e35af23a64a',\n",
       "  'HTTPStatusCode': 200,\n",
       "  'HTTPHeaders': {'content-type': 'application/x-amz-json-1.1',\n",
       "   'date': 'Wed, 07 Oct 2020 06:37:13 GMT',\n",
       "   'x-amzn-requestid': '2e538330-ff75-4c0d-bb1f-2e35af23a64a',\n",
       "   'content-length': '80',\n",
       "   'connection': 'keep-alive'},\n",
       "  'RetryAttempts': 0}}"
      ]
     },
     "execution_count": 33,
     "metadata": {},
     "output_type": "execute_result"
    }
   ],
   "source": [
    "# Create forecast datasets\n",
    "dataset_response = forecast.create_dataset(\n",
    "    DatasetName=dataset_name,\n",
    "    Domain=forecast_domain,\n",
    "    DatasetType=\"TARGET_TIME_SERIES\",\n",
    "    DataFrequency=\"D\",\n",
    "    Schema={\n",
    "        \"Attributes\": [\n",
    "            {\"AttributeName\": \"timestamp\", \"AttributeType\": \"timestamp\"},\n",
    "            {\"AttributeName\": \"item_id\", \"AttributeType\": \"string\"},\n",
    "            {\"AttributeName\": \"demand\", \"AttributeType\": \"float\"},\n",
    "        ]\n",
    "    },\n",
    ")\n",
    "dataset_response"
   ]
  },
  {
   "cell_type": "markdown",
   "metadata": {},
   "source": [
    "Once the import job succeeded, the next step is to create a forecast using the `create_forecast` api. "
   ]
  },
  {
   "cell_type": "code",
   "execution_count": 34,
   "metadata": {},
   "outputs": [],
   "source": [
    "# Create import job\n",
    "import_job_response = forecast.create_dataset_import_job(\n",
    "    DatasetImportJobName=dataset_import_job_name,\n",
    "    DatasetArn=dataset_response[\"DatasetArn\"],\n",
    "    DataSource={\n",
    "        \"S3Config\": {\n",
    "            \"Path\": f\"s3://{bucket_name}/\",\n",
    "            \"RoleArn\": role,\n",
    "        }\n",
    "    },\n",
    "    TimestampFormat=\"yyyy-MM-dd HH:mm:ss\", # Timestamp can be  [yyyy-MM-dd, yyyy-MM-dd HH:mm:ss]\n",
    ")\n"
   ]
  },
  {
   "cell_type": "code",
   "execution_count": 35,
   "metadata": {},
   "outputs": [
    {
     "data": {
      "text/plain": [
       "{'DatasetImportJobArn': 'arn:aws:forecast:eu-west-1:514965996716:dataset-import-job/sales_dedataset/sales_dataset_import_job',\n",
       " 'ResponseMetadata': {'RequestId': '6fffe016-c029-4079-bce5-214f11e523c4',\n",
       "  'HTTPStatusCode': 200,\n",
       "  'HTTPHeaders': {'content-type': 'application/x-amz-json-1.1',\n",
       "   'date': 'Wed, 07 Oct 2020 06:37:15 GMT',\n",
       "   'x-amzn-requestid': '6fffe016-c029-4079-bce5-214f11e523c4',\n",
       "   'content-length': '125',\n",
       "   'connection': 'keep-alive'},\n",
       "  'RetryAttempts': 0}}"
      ]
     },
     "execution_count": 35,
     "metadata": {},
     "output_type": "execute_result"
    }
   ],
   "source": [
    "import_job_response"
   ]
  },
  {
   "cell_type": "code",
   "execution_count": 36,
   "metadata": {},
   "outputs": [
    {
     "data": {
      "text/plain": [
       "{'DatasetGroupArn': 'arn:aws:forecast:eu-west-1:514965996716:dataset-group/sales_demand',\n",
       " 'ResponseMetadata': {'RequestId': 'd0f48106-016e-4ea5-9e8c-38dbd3cf9808',\n",
       "  'HTTPStatusCode': 200,\n",
       "  'HTTPHeaders': {'content-type': 'application/x-amz-json-1.1',\n",
       "   'date': 'Wed, 07 Oct 2020 06:37:16 GMT',\n",
       "   'x-amzn-requestid': 'd0f48106-016e-4ea5-9e8c-38dbd3cf9808',\n",
       "   'content-length': '88',\n",
       "   'connection': 'keep-alive'},\n",
       "  'RetryAttempts': 0}}"
      ]
     },
     "execution_count": 36,
     "metadata": {},
     "output_type": "execute_result"
    }
   ],
   "source": [
    "\n",
    "# Create a dataset group\n",
    "dataset_group = forecast.create_dataset_group(\n",
    "    DatasetGroupName=dataset_group_name,\n",
    "    Domain=forecast_domain,\n",
    "    DatasetArns=[dataset_response[\"DatasetArn\"]],\n",
    ")\n",
    "dataset_group "
   ]
  },
  {
   "cell_type": "markdown",
   "metadata": {},
   "source": [
    "\n",
    "> Depending on the size of the dataset, the job could take some time to complete. You can execute the cell below to check the status of your job.\n"
   ]
  },
  {
   "cell_type": "code",
   "execution_count": 39,
   "metadata": {},
   "outputs": [
    {
     "data": {
      "text/plain": [
       "'ACTIVE'"
      ]
     },
     "execution_count": 39,
     "metadata": {},
     "output_type": "execute_result"
    }
   ],
   "source": [
    "import_job_status = forecast.describe_dataset_import_job(\n",
    "DatasetImportJobArn=import_job_response['DatasetImportJobArn']\n",
    ")\n",
    "import_job_status['Status']"
   ]
  },
  {
   "cell_type": "markdown",
   "metadata": {},
   "source": [
    "Once the import job is active. You should be able to your datasets imported in the console.\n",
    "![](https://res.cloudinary.com/samueljames/image/upload/v1602053748/Import_Dataset.jpg)"
   ]
  },
  {
   "cell_type": "code",
   "execution_count": 40,
   "metadata": {},
   "outputs": [],
   "source": [
    "# Create predictor using automl\n",
    "predictor_response = forecast.create_predictor(\n",
    "    PredictorName=predictor_name,\n",
    "    ForecastHorizon=14,\n",
    "    PerformAutoML=True,\n",
    "    PerformHPO=False,\n",
    "    InputDataConfig={\"DatasetGroupArn\": dataset_group_response[\"DatasetGroupArn\"]},\n",
    "    FeaturizationConfig={\"ForecastFrequency\": \"D\"},\n",
    ")"
   ]
  },
  {
   "cell_type": "code",
   "execution_count": 41,
   "metadata": {},
   "outputs": [
    {
     "data": {
      "text/plain": [
       "{'PredictorArn': 'arn:aws:forecast:eu-west-1:514965996716:predictor/sales_predictor',\n",
       " 'ResponseMetadata': {'RequestId': 'ea30c8d3-9395-4996-8194-49a58d1f90c8',\n",
       "  'HTTPStatusCode': 200,\n",
       "  'HTTPHeaders': {'content-type': 'application/x-amz-json-1.1',\n",
       "   'date': 'Wed, 07 Oct 2020 06:43:33 GMT',\n",
       "   'x-amzn-requestid': 'ea30c8d3-9395-4996-8194-49a58d1f90c8',\n",
       "   'content-length': '84',\n",
       "   'connection': 'keep-alive'},\n",
       "  'RetryAttempts': 0}}"
      ]
     },
     "execution_count": 41,
     "metadata": {},
     "output_type": "execute_result"
    }
   ],
   "source": [
    "predictor_response"
   ]
  },
  {
   "cell_type": "code",
   "execution_count": 49,
   "metadata": {},
   "outputs": [
    {
     "data": {
      "text/plain": [
       "'ACTIVE'"
      ]
     },
     "execution_count": 49,
     "metadata": {},
     "output_type": "execute_result"
    }
   ],
   "source": [
    "describe_predictor = forecast.describe_predictor(\n",
    "    PredictorArn=predictor_response['PredictorArn']\n",
    ")\n",
    "describe_predictor['Status']"
   ]
  },
  {
   "cell_type": "code",
   "execution_count": 50,
   "metadata": {},
   "outputs": [],
   "source": [
    "# Create forecast\n",
    "forecast_response = forecast.create_forecast(\n",
    "    ForecastName=forecast_name,\n",
    "    PredictorArn=predictor_response[\"PredictorArn\"],\n",
    "    ForecastTypes=[\"0.1\", \"0.5\", \"0.9\"],\n",
    ")"
   ]
  },
  {
   "cell_type": "code",
   "execution_count": 54,
   "metadata": {},
   "outputs": [
    {
     "data": {
      "text/plain": [
       "'ACTIVE'"
      ]
     },
     "execution_count": 54,
     "metadata": {},
     "output_type": "execute_result"
    }
   ],
   "source": [
    "describe_forecast = forecast.describe_forecast(\n",
    "    ForecastArn=forecast_response['ForecastArn']\n",
    ")\n",
    "describe_forecast['Status']"
   ]
  },
  {
   "cell_type": "code",
   "execution_count": 57,
   "metadata": {},
   "outputs": [],
   "source": [
    "# Create forecast export job\n",
    "export_job = forecast.create_forecast_export_job(\n",
    "    ForecastExportJobName=\"Week2Foecast\",\n",
    "    ForecastArn=forecast_response[\"ForecastArn\"],\n",
    "    Destination={\n",
    "        \"S3Config\": {\n",
    "            \"Path\": f's3://{bucket_name}',\n",
    "            \"RoleArn\": role,\n",
    "        }\n",
    "    },\n",
    ")"
   ]
  },
  {
   "cell_type": "markdown",
   "metadata": {},
   "source": [
    "## Clean up\n",
    "\n",
    "- Delete predictor\n",
    "- Delete import job\n",
    "- Delete Dataset\n",
    "- Delete Dataset Group"
   ]
  },
  {
   "cell_type": "code",
   "execution_count": null,
   "metadata": {},
   "outputs": [],
   "source": [
    "# Delete the predictor\n",
    "delete_predictor = forecast.delete_predictor(\n",
    "    PredictorArn=predictor_response['PredictorArn']\n",
    ")\n",
    "delete_predictor"
   ]
  },
  {
   "cell_type": "code",
   "execution_count": 56,
   "metadata": {},
   "outputs": [],
   "source": [
    "# Delete forecast export job\n",
    "response = forecast.delete_forecast_export_job(\n",
    "    ForecastExportJobArn=export_job['']\n",
    ")"
   ]
  },
  {
   "cell_type": "code",
   "execution_count": null,
   "metadata": {},
   "outputs": [],
   "source": [
    "# Delete dataset import job\n",
    "delete_dataset_import_job = forecast.delete_dataset_import_job(\n",
    "    DatasetImportJobArn=import_job_response['DatasetImportJobArn']\n",
    ")\n",
    "delete_dataset_import_job"
   ]
  },
  {
   "cell_type": "code",
   "execution_count": null,
   "metadata": {},
   "outputs": [],
   "source": [
    "# Delete dataset \n",
    "delete_dataset = forecast.delete_dataset(\n",
    "    DatasetArn=dataset_response['DatasetArn']\n",
    "\n",
    " )\n",
    "delete_dataset"
   ]
  },
  {
   "cell_type": "code",
   "execution_count": null,
   "metadata": {},
   "outputs": [],
   "source": [
    "\n",
    "#Delete dataset group\n",
    " delete_dataset_group = forecast.delete_dataset_group(\n",
    "    DatasetGroupArn=dataset_group_response[\"DatasetGroupArn\"]\n",
    ")\n",
    "delete_dataset_group"
   ]
  }
 ],
 "metadata": {
  "colab": {
   "collapsed_sections": [],
   "name": "Sale forecast with Pytorch",
   "provenance": [],
   "toc_visible": true
  },
  "kernelspec": {
   "display_name": "conda_python3",
   "language": "python",
   "name": "conda_python3"
  },
  "language_info": {
   "codemirror_mode": {
    "name": "ipython",
    "version": 3
   },
   "file_extension": ".py",
   "mimetype": "text/x-python",
   "name": "python",
   "nbconvert_exporter": "python",
   "pygments_lexer": "ipython3",
   "version": "3.6.10"
  }
 },
 "nbformat": 4,
 "nbformat_minor": 1
}
